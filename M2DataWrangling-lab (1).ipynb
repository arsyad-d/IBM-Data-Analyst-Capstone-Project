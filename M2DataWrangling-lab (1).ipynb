{
 "cells": [
  {
   "cell_type": "markdown",
   "metadata": {},
   "source": [
    "<p style=\"text-align:center\">\n",
    "    <a href=\"https://skills.network/?utm_medium=Exinfluencer&utm_source=Exinfluencer&utm_content=000026UJ&utm_term=10006555&utm_id=NA-SkillsNetwork-Channel-SkillsNetworkCoursesIBMDA0321ENSkillsNetwork928-2022-01-01\" target=\"_blank\">\n",
    "    <img src=\"https://cf-courses-data.s3.us.cloud-object-storage.appdomain.cloud/assets/logos/SN_web_lightmode.png\" width=\"200\" alt=\"Skills Network Logo\"  />\n",
    "    </a>\n",
    "</p>\n"
   ]
  },
  {
   "cell_type": "markdown",
   "metadata": {},
   "source": [
    "# **Data Wrangling Lab**\n"
   ]
  },
  {
   "cell_type": "markdown",
   "metadata": {},
   "source": [
    "Estimated time needed: **45 to 60** minutes\n"
   ]
  },
  {
   "cell_type": "markdown",
   "metadata": {},
   "source": [
    "In this assignment you will be performing data wrangling.\n"
   ]
  },
  {
   "cell_type": "markdown",
   "metadata": {},
   "source": [
    "## Objectives\n"
   ]
  },
  {
   "cell_type": "markdown",
   "metadata": {},
   "source": [
    "In this lab you will perform the following:\n"
   ]
  },
  {
   "cell_type": "markdown",
   "metadata": {},
   "source": [
    "-   Identify duplicate values in the dataset.\n",
    "\n",
    "-   Remove duplicate values from the dataset.\n",
    "\n",
    "-   Identify missing values in the dataset.\n",
    "\n",
    "-   Impute the missing values in the dataset.\n",
    "\n",
    "-   Normalize data in the dataset.\n"
   ]
  },
  {
   "cell_type": "markdown",
   "metadata": {},
   "source": [
    "<hr>\n"
   ]
  },
  {
   "cell_type": "markdown",
   "metadata": {},
   "source": [
    "## Hands on Lab\n"
   ]
  },
  {
   "cell_type": "markdown",
   "metadata": {},
   "source": [
    "Import pandas module.\n"
   ]
  },
  {
   "cell_type": "code",
   "execution_count": 2,
   "metadata": {},
   "outputs": [],
   "source": [
    "import pandas as pd"
   ]
  },
  {
   "cell_type": "markdown",
   "metadata": {},
   "source": [
    "Load the dataset into a dataframe.\n"
   ]
  },
  {
   "cell_type": "code",
   "execution_count": 3,
   "metadata": {},
   "outputs": [],
   "source": [
    "df = pd.read_csv(\"https://cf-courses-data.s3.us.cloud-object-storage.appdomain.cloud/IBM-DA0321EN-SkillsNetwork/LargeData/m1_survey_data.csv\")"
   ]
  },
  {
   "cell_type": "markdown",
   "metadata": {},
   "source": [
    "## Finding duplicates\n"
   ]
  },
  {
   "cell_type": "markdown",
   "metadata": {},
   "source": [
    "In this section you will identify duplicate values in the dataset.\n"
   ]
  },
  {
   "cell_type": "markdown",
   "metadata": {},
   "source": [
    " Find how many duplicate rows exist in the dataframe.\n"
   ]
  },
  {
   "cell_type": "code",
   "execution_count": 5,
   "metadata": {},
   "outputs": [
    {
     "name": "stdout",
     "output_type": "stream",
     "text": [
      "There are 154 row duplicate\n",
      "[1168, 1169, 1170, 1171, 1172, 1173, 1174, 1175, 1176, 1177, 1178, 1179, 1180, 1181, 1182, 1183, 1184, 1185, 1186, 1187, 1188, 1189, 1190, 1191, 1192, 1193, 1194, 1195, 1196, 1197, 1198, 1199, 1200, 1201, 1202, 1203, 1204, 1205, 1206, 1207, 1208, 1209, 1210, 1211, 1212, 1213, 1214, 1215, 1216, 1217, 1218, 1219, 1220, 1221, 1222, 1223, 1224, 1225, 1226, 1227, 1228, 1229, 1230, 1231, 1232, 1233, 1234, 1235, 1236, 1237, 1238, 1239, 1240, 1241, 1242, 1243, 1244, 1245, 1246, 1247, 1248, 1249, 1250, 1251, 1252, 1253, 1254, 1255, 1256, 1257, 1258, 1259, 1260, 1261, 1262, 1263, 1264, 1265, 1266, 1267, 1268, 1269, 1270, 1271, 1272, 1273, 1274, 1275, 1276, 1277, 1278, 1279, 1280, 1281, 1282, 1283, 1284, 1285, 1286, 1287, 1288, 1289, 2270, 2271, 2272, 2273, 2274, 2275, 2276, 2277, 2278, 2279, 2280, 2281, 2282, 2283, 2284, 2285, 2286, 2287, 2288, 2289, 2290, 2291, 2292, 2293, 2294, 2295, 2296, 2297, 2298, 2299, 2300, 2301]\n"
     ]
    }
   ],
   "source": [
    "duplicate = df.duplicated()\n",
    "duplicate_list=[]\n",
    "for index, d in enumerate(duplicate):\n",
    "    if d == True :\n",
    "        duplicate_list.append(index)\n",
    "print(\"There are {} row duplicate\".format(len(duplicate_list)))\n",
    "print(duplicate_list)\n",
    "\n",
    "\n"
   ]
  },
  {
   "cell_type": "markdown",
   "metadata": {},
   "source": [
    "## Removing duplicates\n"
   ]
  },
  {
   "cell_type": "markdown",
   "metadata": {},
   "source": [
    "Remove the duplicate rows from the dataframe.\n"
   ]
  },
  {
   "cell_type": "code",
   "execution_count": 6,
   "metadata": {},
   "outputs": [],
   "source": [
    "df_uniq=df.drop_duplicates()\n"
   ]
  },
  {
   "cell_type": "markdown",
   "metadata": {},
   "source": [
    "Verify if duplicates were actually dropped.\n"
   ]
  },
  {
   "cell_type": "code",
   "execution_count": 7,
   "metadata": {},
   "outputs": [
    {
     "name": "stdout",
     "output_type": "stream",
     "text": [
      "There are 0 row duplicate\n"
     ]
    },
    {
     "data": {
      "text/plain": [
       "(11398, 85)"
      ]
     },
     "execution_count": 7,
     "metadata": {},
     "output_type": "execute_result"
    }
   ],
   "source": [
    "duplicate_check = df_uniq.duplicated()\n",
    "duplicate_check_list=[]\n",
    "for index, d in enumerate(duplicate_check):\n",
    "    if d == True :\n",
    "        duplicate_check_list.append(index)\n",
    "print(\"There are {} row duplicate\".format(len(duplicate_check_list)))\n",
    "df_uniq.shape\n"
   ]
  },
  {
   "cell_type": "markdown",
   "metadata": {},
   "source": [
    "## Finding Missing values\n"
   ]
  },
  {
   "cell_type": "markdown",
   "metadata": {},
   "source": [
    "Find the missing values for all columns.\n"
   ]
  },
  {
   "cell_type": "code",
   "execution_count": 8,
   "metadata": {},
   "outputs": [
    {
     "name": "stdout",
     "output_type": "stream",
     "text": [
      "Respondent\n",
      "Respondent\n",
      "False    11398\n",
      "Name: count, dtype: int64\n",
      "\n",
      "MainBranch\n",
      "MainBranch\n",
      "False    11398\n",
      "Name: count, dtype: int64\n",
      "\n",
      "Hobbyist\n",
      "Hobbyist\n",
      "False    11398\n",
      "Name: count, dtype: int64\n",
      "\n",
      "OpenSourcer\n",
      "OpenSourcer\n",
      "False    11398\n",
      "Name: count, dtype: int64\n",
      "\n",
      "OpenSource\n",
      "OpenSource\n",
      "False    11317\n",
      "True        81\n",
      "Name: count, dtype: int64\n",
      "\n",
      "Employment\n",
      "Employment\n",
      "False    11398\n",
      "Name: count, dtype: int64\n",
      "\n",
      "Country\n",
      "Country\n",
      "False    11398\n",
      "Name: count, dtype: int64\n",
      "\n",
      "Student\n",
      "Student\n",
      "False    11347\n",
      "True        51\n",
      "Name: count, dtype: int64\n",
      "\n",
      "EdLevel\n",
      "EdLevel\n",
      "False    11286\n",
      "True       112\n",
      "Name: count, dtype: int64\n",
      "\n",
      "UndergradMajor\n",
      "UndergradMajor\n",
      "False    10661\n",
      "True       737\n",
      "Name: count, dtype: int64\n",
      "\n",
      "EduOther\n",
      "EduOther\n",
      "False    11234\n",
      "True       164\n",
      "Name: count, dtype: int64\n",
      "\n",
      "OrgSize\n",
      "OrgSize\n",
      "False    11302\n",
      "True        96\n",
      "Name: count, dtype: int64\n",
      "\n",
      "DevType\n",
      "DevType\n",
      "False    11333\n",
      "True        65\n",
      "Name: count, dtype: int64\n",
      "\n",
      "YearsCode\n",
      "YearsCode\n",
      "False    11389\n",
      "True         9\n",
      "Name: count, dtype: int64\n",
      "\n",
      "Age1stCode\n",
      "Age1stCode\n",
      "False    11385\n",
      "True        13\n",
      "Name: count, dtype: int64\n",
      "\n",
      "YearsCodePro\n",
      "YearsCodePro\n",
      "False    11382\n",
      "True        16\n",
      "Name: count, dtype: int64\n",
      "\n",
      "CareerSat\n",
      "CareerSat\n",
      "False    11398\n",
      "Name: count, dtype: int64\n",
      "\n",
      "JobSat\n",
      "JobSat\n",
      "False    11397\n",
      "True         1\n",
      "Name: count, dtype: int64\n",
      "\n",
      "MgrIdiot\n",
      "MgrIdiot\n",
      "False    10905\n",
      "True       493\n",
      "Name: count, dtype: int64\n",
      "\n",
      "MgrMoney\n",
      "MgrMoney\n",
      "False    10901\n",
      "True       497\n",
      "Name: count, dtype: int64\n",
      "\n",
      "MgrWant\n",
      "MgrWant\n",
      "False    10905\n",
      "True       493\n",
      "Name: count, dtype: int64\n",
      "\n",
      "JobSeek\n",
      "JobSeek\n",
      "False    11398\n",
      "Name: count, dtype: int64\n",
      "\n",
      "LastHireDate\n",
      "LastHireDate\n",
      "False    11398\n",
      "Name: count, dtype: int64\n",
      "\n",
      "LastInt\n",
      "LastInt\n",
      "False    10985\n",
      "True       413\n",
      "Name: count, dtype: int64\n",
      "\n",
      "FizzBuzz\n",
      "FizzBuzz\n",
      "False    11361\n",
      "True        37\n",
      "Name: count, dtype: int64\n",
      "\n",
      "JobFactors\n",
      "JobFactors\n",
      "False    11395\n",
      "True         3\n",
      "Name: count, dtype: int64\n",
      "\n",
      "ResumeUpdate\n",
      "ResumeUpdate\n",
      "False    11359\n",
      "True        39\n",
      "Name: count, dtype: int64\n",
      "\n",
      "CurrencySymbol\n",
      "CurrencySymbol\n",
      "False    11398\n",
      "Name: count, dtype: int64\n",
      "\n",
      "CurrencyDesc\n",
      "CurrencyDesc\n",
      "False    11398\n",
      "Name: count, dtype: int64\n",
      "\n",
      "CompTotal\n",
      "CompTotal\n",
      "False    10589\n",
      "True       809\n",
      "Name: count, dtype: int64\n",
      "\n",
      "CompFreq\n",
      "CompFreq\n",
      "False    11192\n",
      "True       206\n",
      "Name: count, dtype: int64\n",
      "\n",
      "ConvertedComp\n",
      "ConvertedComp\n",
      "False    10582\n",
      "True       816\n",
      "Name: count, dtype: int64\n",
      "\n",
      "WorkWeekHrs\n",
      "WorkWeekHrs\n",
      "False    11276\n",
      "True       122\n",
      "Name: count, dtype: int64\n",
      "\n",
      "WorkPlan\n",
      "WorkPlan\n",
      "False    11277\n",
      "True       121\n",
      "Name: count, dtype: int64\n",
      "\n",
      "WorkChallenge\n",
      "WorkChallenge\n",
      "False    11234\n",
      "True       164\n",
      "Name: count, dtype: int64\n",
      "\n",
      "WorkRemote\n",
      "WorkRemote\n",
      "False    11390\n",
      "True         8\n",
      "Name: count, dtype: int64\n",
      "\n",
      "WorkLoc\n",
      "WorkLoc\n",
      "False    11366\n",
      "True        32\n",
      "Name: count, dtype: int64\n",
      "\n",
      "ImpSyn\n",
      "ImpSyn\n",
      "False    11393\n",
      "True         5\n",
      "Name: count, dtype: int64\n",
      "\n",
      "CodeRev\n",
      "CodeRev\n",
      "False    11397\n",
      "True         1\n",
      "Name: count, dtype: int64\n",
      "\n",
      "CodeRevHrs\n",
      "CodeRevHrs\n",
      "False    8972\n",
      "True     2426\n",
      "Name: count, dtype: int64\n",
      "\n",
      "UnitTests\n",
      "UnitTests\n",
      "False    11369\n",
      "True        29\n",
      "Name: count, dtype: int64\n",
      "\n",
      "PurchaseHow\n",
      "PurchaseHow\n",
      "False    11202\n",
      "True       196\n",
      "Name: count, dtype: int64\n",
      "\n",
      "PurchaseWhat\n",
      "PurchaseWhat\n",
      "False    11360\n",
      "True        38\n",
      "Name: count, dtype: int64\n",
      "\n",
      "LanguageWorkedWith\n",
      "LanguageWorkedWith\n",
      "False    11387\n",
      "True        11\n",
      "Name: count, dtype: int64\n",
      "\n",
      "LanguageDesireNextYear\n",
      "LanguageDesireNextYear\n",
      "False    11264\n",
      "True       134\n",
      "Name: count, dtype: int64\n",
      "\n",
      "DatabaseWorkedWith\n",
      "DatabaseWorkedWith\n",
      "False    10945\n",
      "True       453\n",
      "Name: count, dtype: int64\n",
      "\n",
      "DatabaseDesireNextYear\n",
      "DatabaseDesireNextYear\n",
      "False    10356\n",
      "True      1042\n",
      "Name: count, dtype: int64\n",
      "\n",
      "PlatformWorkedWith\n",
      "PlatformWorkedWith\n",
      "False    10987\n",
      "True       411\n",
      "Name: count, dtype: int64\n",
      "\n",
      "PlatformDesireNextYear\n",
      "PlatformDesireNextYear\n",
      "False    10854\n",
      "True       544\n",
      "Name: count, dtype: int64\n",
      "\n",
      "WebFrameWorkedWith\n",
      "WebFrameWorkedWith\n",
      "False    10005\n",
      "True      1393\n",
      "Name: count, dtype: int64\n",
      "\n",
      "WebFrameDesireNextYear\n",
      "WebFrameDesireNextYear\n",
      "False    9781\n",
      "True     1617\n",
      "Name: count, dtype: int64\n",
      "\n",
      "MiscTechWorkedWith\n",
      "MiscTechWorkedWith\n",
      "False    9216\n",
      "True     2182\n",
      "Name: count, dtype: int64\n",
      "\n",
      "MiscTechDesireNextYear\n",
      "MiscTechDesireNextYear\n",
      "False    9943\n",
      "True     1455\n",
      "Name: count, dtype: int64\n",
      "\n",
      "DevEnviron\n",
      "DevEnviron\n",
      "False    11369\n",
      "True        29\n",
      "Name: count, dtype: int64\n",
      "\n",
      "OpSys\n",
      "OpSys\n",
      "False    11364\n",
      "True        34\n",
      "Name: count, dtype: int64\n",
      "\n",
      "Containers\n",
      "Containers\n",
      "False    11316\n",
      "True        82\n",
      "Name: count, dtype: int64\n",
      "\n",
      "BlockchainOrg\n",
      "BlockchainOrg\n",
      "False    9076\n",
      "True     2322\n",
      "Name: count, dtype: int64\n",
      "\n",
      "BlockchainIs\n",
      "BlockchainIs\n",
      "False    8788\n",
      "True     2610\n",
      "Name: count, dtype: int64\n",
      "\n",
      "BetterLife\n",
      "BetterLife\n",
      "False    11300\n",
      "True        98\n",
      "Name: count, dtype: int64\n",
      "\n",
      "ITperson\n",
      "ITperson\n",
      "False    11363\n",
      "True        35\n",
      "Name: count, dtype: int64\n",
      "\n",
      "OffOn\n",
      "OffOn\n",
      "False    11360\n",
      "True        38\n",
      "Name: count, dtype: int64\n",
      "\n",
      "SocialMedia\n",
      "SocialMedia\n",
      "False    11105\n",
      "True       293\n",
      "Name: count, dtype: int64\n",
      "\n",
      "Extraversion\n",
      "Extraversion\n",
      "False    11378\n",
      "True        20\n",
      "Name: count, dtype: int64\n",
      "\n",
      "ScreenName\n",
      "ScreenName\n",
      "False    10891\n",
      "True       507\n",
      "Name: count, dtype: int64\n",
      "\n",
      "SOVisit1st\n",
      "SOVisit1st\n",
      "False    11073\n",
      "True       325\n",
      "Name: count, dtype: int64\n",
      "\n",
      "SOVisitFreq\n",
      "SOVisitFreq\n",
      "False    11393\n",
      "True         5\n",
      "Name: count, dtype: int64\n",
      "\n",
      "SOVisitTo\n",
      "SOVisitTo\n",
      "False    11397\n",
      "True         1\n",
      "Name: count, dtype: int64\n",
      "\n",
      "SOFindAnswer\n",
      "SOFindAnswer\n",
      "False    11395\n",
      "True         3\n",
      "Name: count, dtype: int64\n",
      "\n",
      "SOTimeSaved\n",
      "SOTimeSaved\n",
      "False    11348\n",
      "True        50\n",
      "Name: count, dtype: int64\n",
      "\n",
      "SOHowMuchTime\n",
      "SOHowMuchTime\n",
      "False    9481\n",
      "True     1917\n",
      "Name: count, dtype: int64\n",
      "\n",
      "SOAccount\n",
      "SOAccount\n",
      "False    11397\n",
      "True         1\n",
      "Name: count, dtype: int64\n",
      "\n",
      "SOPartFreq\n",
      "SOPartFreq\n",
      "False    10270\n",
      "True      1128\n",
      "Name: count, dtype: int64\n",
      "\n",
      "SOJobs\n",
      "SOJobs\n",
      "False    11392\n",
      "True         6\n",
      "Name: count, dtype: int64\n",
      "\n",
      "EntTeams\n",
      "EntTeams\n",
      "False    11393\n",
      "True         5\n",
      "Name: count, dtype: int64\n",
      "\n",
      "SOComm\n",
      "SOComm\n",
      "False    11398\n",
      "Name: count, dtype: int64\n",
      "\n",
      "WelcomeChange\n",
      "WelcomeChange\n",
      "False    11313\n",
      "True        85\n",
      "Name: count, dtype: int64\n",
      "\n",
      "SONewContent\n",
      "SONewContent\n",
      "False    9433\n",
      "True     1965\n",
      "Name: count, dtype: int64\n",
      "\n",
      "Age\n",
      "Age\n",
      "False    11111\n",
      "True       287\n",
      "Name: count, dtype: int64\n",
      "\n",
      "Gender\n",
      "Gender\n",
      "False    11325\n",
      "True        73\n",
      "Name: count, dtype: int64\n",
      "\n",
      "Trans\n",
      "Trans\n",
      "False    11275\n",
      "True       123\n",
      "Name: count, dtype: int64\n",
      "\n",
      "Sexuality\n",
      "Sexuality\n",
      "False    10856\n",
      "True       542\n",
      "Name: count, dtype: int64\n",
      "\n",
      "Ethnicity\n",
      "Ethnicity\n",
      "False    10723\n",
      "True       675\n",
      "Name: count, dtype: int64\n",
      "\n",
      "Dependents\n",
      "Dependents\n",
      "False    11258\n",
      "True       140\n",
      "Name: count, dtype: int64\n",
      "\n",
      "SurveyLength\n",
      "SurveyLength\n",
      "False    11379\n",
      "True        19\n",
      "Name: count, dtype: int64\n",
      "\n",
      "SurveyEase\n",
      "SurveyEase\n",
      "False    11384\n",
      "True        14\n",
      "Name: count, dtype: int64\n",
      "\n"
     ]
    }
   ],
   "source": [
    "missed_value = df_uniq.isnull()\n",
    "for column in missed_value.columns.values.tolist():\n",
    "    print(column)\n",
    "    print (missed_value[column].value_counts())\n",
    "    print(\"\")    "
   ]
  },
  {
   "cell_type": "markdown",
   "metadata": {},
   "source": [
    "Find out how many rows are missing in the column 'WorkLoc'\n"
   ]
  },
  {
   "cell_type": "code",
   "execution_count": 9,
   "metadata": {},
   "outputs": [
    {
     "name": "stdout",
     "output_type": "stream",
     "text": [
      "WorkLoc\n",
      "False    11366\n",
      "True        32\n",
      "Name: count, dtype: int64\n"
     ]
    }
   ],
   "source": [
    "print (missed_value['WorkLoc'].value_counts())"
   ]
  },
  {
   "cell_type": "markdown",
   "metadata": {},
   "source": [
    "## Imputing missing values\n"
   ]
  },
  {
   "cell_type": "markdown",
   "metadata": {},
   "source": [
    "Find the  value counts for the column WorkLoc.\n"
   ]
  },
  {
   "cell_type": "code",
   "execution_count": null,
   "metadata": {},
   "outputs": [],
   "source": []
  },
  {
   "cell_type": "code",
   "execution_count": 10,
   "metadata": {},
   "outputs": [],
   "source": [
    "# your code goes here\n",
    "df_emplo = df_uniq.groupby(['WorkLoc'])['Respondent'].count().reset_index(name='Total_Workloc')\n"
   ]
  },
  {
   "cell_type": "markdown",
   "metadata": {},
   "source": [
    "Identify the value that is most frequent (majority) in the WorkLoc column.\n"
   ]
  },
  {
   "cell_type": "code",
   "execution_count": 11,
   "metadata": {},
   "outputs": [
    {
     "data": {
      "text/html": [
       "<div>\n",
       "<style scoped>\n",
       "    .dataframe tbody tr th:only-of-type {\n",
       "        vertical-align: middle;\n",
       "    }\n",
       "\n",
       "    .dataframe tbody tr th {\n",
       "        vertical-align: top;\n",
       "    }\n",
       "\n",
       "    .dataframe thead th {\n",
       "        text-align: right;\n",
       "    }\n",
       "</style>\n",
       "<table border=\"1\" class=\"dataframe\">\n",
       "  <thead>\n",
       "    <tr style=\"text-align: right;\">\n",
       "      <th></th>\n",
       "      <th>WorkLoc</th>\n",
       "      <th>Total_Workloc</th>\n",
       "    </tr>\n",
       "  </thead>\n",
       "  <tbody>\n",
       "    <tr>\n",
       "      <th>0</th>\n",
       "      <td>Home</td>\n",
       "      <td>3589</td>\n",
       "    </tr>\n",
       "    <tr>\n",
       "      <th>1</th>\n",
       "      <td>Office</td>\n",
       "      <td>6806</td>\n",
       "    </tr>\n",
       "    <tr>\n",
       "      <th>2</th>\n",
       "      <td>Other place, such as a coworking space or cafe</td>\n",
       "      <td>971</td>\n",
       "    </tr>\n",
       "  </tbody>\n",
       "</table>\n",
       "</div>"
      ],
      "text/plain": [
       "                                          WorkLoc  Total_Workloc\n",
       "0                                            Home           3589\n",
       "1                                          Office           6806\n",
       "2  Other place, such as a coworking space or cafe            971"
      ]
     },
     "execution_count": 11,
     "metadata": {},
     "output_type": "execute_result"
    }
   ],
   "source": [
    "df_emplo"
   ]
  },
  {
   "cell_type": "markdown",
   "metadata": {},
   "source": [
    "Impute (replace) all the empty rows in the column WorkLoc with the value that you have identified as majority.\n"
   ]
  },
  {
   "cell_type": "code",
   "execution_count": 45,
   "metadata": {},
   "outputs": [],
   "source": [
    "fill_val = {\"WorkLoc\": \"Office\"}\n",
    "df_fill = df_uniq.fillna(value=fill_val)"
   ]
  },
  {
   "cell_type": "markdown",
   "metadata": {},
   "source": [
    "After imputation there should ideally not be any empty rows in the WorkLoc column.\n"
   ]
  },
  {
   "cell_type": "markdown",
   "metadata": {},
   "source": [
    "Verify if imputing was successful.\n"
   ]
  },
  {
   "cell_type": "code",
   "execution_count": 46,
   "metadata": {},
   "outputs": [
    {
     "name": "stdout",
     "output_type": "stream",
     "text": [
      "WorkLoc\n",
      "False    11398\n",
      "Name: count, dtype: int64\n"
     ]
    }
   ],
   "source": [
    "# your code goes here\n",
    "missed_value_workloc = df_fill.isnull()\n",
    "print (missed_value_workloc['WorkLoc'].value_counts())"
   ]
  },
  {
   "cell_type": "markdown",
   "metadata": {},
   "source": [
    "## Normalizing data\n"
   ]
  },
  {
   "cell_type": "markdown",
   "metadata": {},
   "source": [
    "There are two columns in the dataset that talk about compensation.\n",
    "\n",
    "One is \"CompFreq\". This column shows how often a developer is paid (Yearly, Monthly, Weekly).\n",
    "\n",
    "The other is \"CompTotal\". This column talks about how much the developer is paid per Year, Month, or Week depending upon his/her \"CompFreq\". \n",
    "\n",
    "This makes it difficult to compare the total compensation of the developers.\n",
    "\n",
    "In this section you will create a new column called 'NormalizedAnnualCompensation' which contains the 'Annual Compensation' irrespective of the 'CompFreq'.\n",
    "\n",
    "Once this column is ready, it makes comparison of salaries easy.\n"
   ]
  },
  {
   "cell_type": "markdown",
   "metadata": {},
   "source": [
    "<hr>\n"
   ]
  },
  {
   "cell_type": "markdown",
   "metadata": {},
   "source": [
    "List out the various categories in the column 'CompFreq'\n"
   ]
  },
  {
   "cell_type": "code",
   "execution_count": 50,
   "metadata": {},
   "outputs": [
    {
     "data": {
      "text/html": [
       "<div>\n",
       "<style scoped>\n",
       "    .dataframe tbody tr th:only-of-type {\n",
       "        vertical-align: middle;\n",
       "    }\n",
       "\n",
       "    .dataframe tbody tr th {\n",
       "        vertical-align: top;\n",
       "    }\n",
       "\n",
       "    .dataframe thead th {\n",
       "        text-align: right;\n",
       "    }\n",
       "</style>\n",
       "<table border=\"1\" class=\"dataframe\">\n",
       "  <thead>\n",
       "    <tr style=\"text-align: right;\">\n",
       "      <th></th>\n",
       "      <th>CompFreq</th>\n",
       "      <th>Total_Comp</th>\n",
       "    </tr>\n",
       "  </thead>\n",
       "  <tbody>\n",
       "    <tr>\n",
       "      <th>0</th>\n",
       "      <td>Monthly</td>\n",
       "      <td>4788</td>\n",
       "    </tr>\n",
       "    <tr>\n",
       "      <th>1</th>\n",
       "      <td>Weekly</td>\n",
       "      <td>331</td>\n",
       "    </tr>\n",
       "    <tr>\n",
       "      <th>2</th>\n",
       "      <td>Yearly</td>\n",
       "      <td>6073</td>\n",
       "    </tr>\n",
       "  </tbody>\n",
       "</table>\n",
       "</div>"
      ],
      "text/plain": [
       "  CompFreq  Total_Comp\n",
       "0  Monthly        4788\n",
       "1   Weekly         331\n",
       "2   Yearly        6073"
      ]
     },
     "execution_count": 50,
     "metadata": {},
     "output_type": "execute_result"
    }
   ],
   "source": [
    "df_compfreq = df_fill.groupby(['CompFreq'])['Respondent'].count().reset_index(name='Total_Comp')\n",
    "df_compfreq"
   ]
  },
  {
   "cell_type": "markdown",
   "metadata": {},
   "source": [
    "Create a new column named 'NormalizedAnnualCompensation'. Use the hint given below if needed.\n"
   ]
  },
  {
   "cell_type": "markdown",
   "metadata": {},
   "source": [
    "Double click to see the **Hint**.\n",
    "\n",
    "<!--\n",
    "\n",
    "Use the below logic to arrive at the values for the column NormalizedAnnualCompensation.\n",
    "\n",
    "If the CompFreq is Yearly then use the exising value in CompTotal\n",
    "If the CompFreq is Monthly then multiply the value in CompTotal with 12 (months in an year)\n",
    "If the CompFreq is Weekly then multiply the value in CompTotal with 52 (weeks in an year)\n",
    "\n",
    "-->\n"
   ]
  },
  {
   "cell_type": "code",
   "execution_count": 51,
   "metadata": {},
   "outputs": [
    {
     "data": {
      "text/plain": [
       "100000.0"
      ]
     },
     "execution_count": 51,
     "metadata": {},
     "output_type": "execute_result"
    }
   ],
   "source": [
    "df_fill.loc[df_fill['CompFreq'] == 'Yearly', 'NormalizedAnnualCompensation'] =  df_fill['CompTotal']\n",
    "df_fill.loc[df_fill['CompFreq'] == 'Monthly', 'NormalizedAnnualCompensation'] =  df_fill['CompTotal']*12\n",
    "df_fill.loc[df_fill['CompFreq'] == 'Weekly', 'NormalizedAnnualCompensation'] =  df_fill['CompTotal']*52\n",
    "\n",
    "df_fill_normal = df_fill['NormalizedAnnualCompensation']\n",
    "df_fill_normal.median()"
   ]
  },
  {
   "cell_type": "markdown",
   "metadata": {},
   "source": [
    "## Authors\n"
   ]
  },
  {
   "cell_type": "markdown",
   "metadata": {},
   "source": [
    "Ramesh Sannareddy\n"
   ]
  },
  {
   "cell_type": "markdown",
   "metadata": {},
   "source": [
    "### Other Contributors\n"
   ]
  },
  {
   "cell_type": "markdown",
   "metadata": {},
   "source": [
    "Rav Ahuja\n"
   ]
  },
  {
   "cell_type": "markdown",
   "metadata": {},
   "source": [
    "## Change Log\n"
   ]
  },
  {
   "cell_type": "markdown",
   "metadata": {},
   "source": [
    "| Date (YYYY-MM-DD) | Version | Changed By        | Change Description                 |\n",
    "| ----------------- | ------- | ----------------- | ---------------------------------- |\n",
    "| 2020-10-17        | 0.1     | Ramesh Sannareddy | Created initial version of the lab |\n"
   ]
  },
  {
   "cell_type": "markdown",
   "metadata": {},
   "source": [
    " Copyright © 2020 IBM Corporation. This notebook and its source code are released under the terms of the [MIT License](https://cognitiveclass.ai/mit-license?utm_medium=Exinfluencer&utm_source=Exinfluencer&utm_content=000026UJ&utm_term=10006555&utm_id=NA-SkillsNetwork-Channel-SkillsNetworkCoursesIBMDA0321ENSkillsNetwork928-2022-01-01&cm_mmc=Email_Newsletter-_-Developer_Ed%2BTech-_-WW_WW-_-SkillsNetwork-Courses-IBM-DA0321EN-SkillsNetwork-21426264&cm_mmca1=000026UJ&cm_mmca2=10006555&cm_mmca3=M12345678&cvosrc=email.Newsletter.M12345678&cvo_campaign=000026UJ).\n"
   ]
  }
 ],
 "metadata": {
  "kernelspec": {
   "display_name": "Python 3 (ipykernel)",
   "language": "python",
   "name": "python3"
  },
  "language_info": {
   "codemirror_mode": {
    "name": "ipython",
    "version": 3
   },
   "file_extension": ".py",
   "mimetype": "text/x-python",
   "name": "python",
   "nbconvert_exporter": "python",
   "pygments_lexer": "ipython3",
   "version": "3.12.0"
  }
 },
 "nbformat": 4,
 "nbformat_minor": 4
}
